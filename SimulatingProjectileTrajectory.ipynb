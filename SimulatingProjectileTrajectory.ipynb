{
 "cells": [
  {
   "cell_type": "code",
   "execution_count": 20,
   "id": "fb37796f",
   "metadata": {},
   "outputs": [],
   "source": [
    "# Import libraries\n",
    "\n",
    "# Math stuff\n",
    "import numpy as np\n",
    "import math\n",
    "\n",
    "# Plotting stuff\n",
    "import matplotlib.pyplot as plt\n",
    "import matplotlib.animation\n",
    "\n",
    "# ODE stuff\n",
    "from scipy.integrate import solve_ivp\n",
    "%matplotlib inline\n"
   ]
  },
  {
   "cell_type": "code",
   "execution_count": 35,
   "id": "c53fbe09",
   "metadata": {},
   "outputs": [],
   "source": [
    "# Set up the information needed to solve the initial value problem\n",
    "\n",
    "z0 = np.zeros(6); #initialize to zero for good measure.\n",
    "\n",
    "#*************\n",
    "\n",
    "# TODO HERE: Fill z0 with the necessary initial conditions data\n",
    "# see the comments in dynamics_function for order of variables in the z vector\n",
    "\n",
    "#z0 = [???]\n",
    "\n",
    "z0 [0] = 0.0  #x_0 (inital position of PROJECTILE)\n",
    "z0 [1] = 0.0  #y_0 (inital position of PROJECTILE)\n",
    "z0 [2] = 2.0  #x-velocity (inital)\n",
    "z0 [3] = 20.0 #y-velocity (inital)\n",
    "z0 [4] = 1.5  #x_0 (inital position of TARGET)\n",
    "z0 [5] = -1.5 #y_0 (inital position of TARGET)\n",
    "\n",
    "\n",
    "# Dynamics function for the first order system of ODEs describing projectile and target\n",
    "def dynamics_function(t, z):\n",
    "    \n",
    "    # The dynamics function takes time t and vector z, and \n",
    "    # returns the resulting vector of derivative values given by z' (i.e., dz/dt)\n",
    "    \n",
    "    #the entries of the incoming z vector will contain the following data\n",
    "    #z[0] = x-position of projectile, x(t)\n",
    "    #z[1] = y-position of projectile, y(t)\n",
    "    #z[2] = x-velocity of projectile, x'(t)\n",
    "    #z[3] = y-velocity of projectile, y'(t)\n",
    "    #z[4] = x-position of target, p(t)\n",
    "    #z[5] = x-velocity of target, p'(t)\n",
    "    \n",
    "    #initialize the z' vector of the appropriate length, but with zeros\n",
    "    dzdt = np.zeros(6);\n",
    "    \n",
    "    #*************\n",
    "   \n",
    "    #TODO HERE: Fill dzdt with the necessary derivative data to complete the dynamics function.\n",
    "    \n",
    "    # returns the resulting vector of derivative values given by z' (i.e., dz/dt)\n",
    "    #dzdt = dz/dt = [???]\n",
    "    c = 0.2\n",
    "    m = 2.0\n",
    "    w = -0.6\n",
    "    g = 9.81\n",
    "\n",
    "    def Vrel(X1,Y1):\n",
    "        retval = math.sqrt( (X1 - w)**2 + (Y1)**2 )\n",
    "        return retval\n",
    "\n",
    "    #dzdt = dz/dt \n",
    "    dzdt [0] = z[2]  \n",
    "    dzdt [1] = z[3]  \n",
    "    dzdt [2] = (-1) * ((c * Vrel(z[2],z[3])) / m ) * (z[2] - w) \n",
    "    dzdt [3] = (-g) - ( (c * Vrel(z[2],z[3])) / m ) * z[3]\n",
    "    dzdt [4] = z[5]\n",
    "    dzdt [5] = (-4) * math.pi * (z[4] - 1.5)\n",
    "    #*************\n",
    "    \n",
    "    # return the vector of derivative data (for SciPy's solver to use.\n",
    "    return dzdt;\n",
    "        \n"
   ]
  },
  {
   "cell_type": "code",
   "execution_count": 40,
   "id": "312ee20e",
   "metadata": {},
   "outputs": [
    {
     "data": {
      "image/png": "[encoded data removed]",
      "text/plain": [
       "<Figure size 432x288 with 1 Axes>"
      ]
     },
     "metadata": {
      "needs_background": "light"
     },
     "output_type": "display_data"
    }
   ],
   "source": [
    "# We'll also define an \"event function\" to terminate the simulation \n",
    "# when the projectile hits the ground (y=0).\n",
    "# The IVP solver will check this condition behind the scenes for us.\n",
    "def ground_event(t,z):\n",
    "    return z[1] #evaluate the y value\n",
    "ground_event.terminal = True #halt on impact\n",
    "ground_event.direction = -1 #only count positive-to-negative crossings of the height (y)\n",
    "\n",
    "# Specify the timespan for simulation. We simulate from 0 to 5 (unless an event happens first!)\n",
    "tspan = [0, 5] \n",
    "\n",
    "# Below we call the SciPy numerical IVP solver to actually solve the problem\n",
    "# Notice that it takes in the dynamics function and the initial conditions z0\n",
    "# It then calculates a vector of discrete times, sol.t, \n",
    "# and corresponding vectors of discrete solution data sol.y\n",
    "# It uses adaptive timestepping internally - but we'll limit the step size to 0.1 so we see plenty of steps\n",
    "sol = solve_ivp(dynamics_function, tspan, z0, max_step = 0.1, events = ground_event)\n",
    "\n",
    "# Display the result as a static image, for quicker debugging\n",
    "y_target = np.zeros_like(sol.y[4])\n",
    "plt.plot(sol.y[0], sol.y[1], 'b-o')\n",
    "plt.plot(sol.y[4][-1], y_target[-1]+0.3, 'ro', markersize=20)\n",
    "plt.show()\n",
    "\n",
    "#print (sol)"
   ]
  },
  {
   "cell_type": "code",
   "execution_count": 30,
   "id": "72e0994f",
   "metadata": {},
   "outputs": [
    {
     "ename": "RuntimeError",
     "evalue": "Requested MovieWriter (ffmpeg) not available",
     "output_type": "error",
     "traceback": [
      "\u001b[0;31m---------------------------------------------------------------------------\u001b[0m",
      "\u001b[0;31mRuntimeError\u001b[0m                              Traceback (most recent call last)",
      "Input \u001b[0;32mIn [30]\u001b[0m, in \u001b[0;36m<cell line: 25>\u001b[0;34m()\u001b[0m\n\u001b[1;32m     23\u001b[0m \u001b[38;5;28;01mfrom\u001b[39;00m \u001b[38;5;21;01mIPython\u001b[39;00m\u001b[38;5;21;01m.\u001b[39;00m\u001b[38;5;21;01mdisplay\u001b[39;00m \u001b[38;5;28;01mimport\u001b[39;00m HTML\n\u001b[1;32m     24\u001b[0m \u001b[38;5;66;03m#HTML(ani.to_jshtml()) # try to use javascript player\u001b[39;00m\n\u001b[0;32m---> 25\u001b[0m HTML(\u001b[43mani\u001b[49m\u001b[38;5;241;43m.\u001b[39;49m\u001b[43mto_html5_video\u001b[49m\u001b[43m(\u001b[49m\u001b[43m)\u001b[49m)\n",
      "File \u001b[0;32m~/opt/anaconda3/lib/python3.9/site-packages/matplotlib/animation.py:1266\u001b[0m, in \u001b[0;36mAnimation.to_html5_video\u001b[0;34m(self, embed_limit)\u001b[0m\n\u001b[1;32m   1263\u001b[0m path \u001b[38;5;241m=\u001b[39m Path(tmpdir, \u001b[38;5;124m\"\u001b[39m\u001b[38;5;124mtemp.m4v\u001b[39m\u001b[38;5;124m\"\u001b[39m)\n\u001b[1;32m   1264\u001b[0m \u001b[38;5;66;03m# We create a writer manually so that we can get the\u001b[39;00m\n\u001b[1;32m   1265\u001b[0m \u001b[38;5;66;03m# appropriate size for the tag\u001b[39;00m\n\u001b[0;32m-> 1266\u001b[0m Writer \u001b[38;5;241m=\u001b[39m \u001b[43mwriters\u001b[49m\u001b[43m[\u001b[49m\u001b[43mmpl\u001b[49m\u001b[38;5;241;43m.\u001b[39;49m\u001b[43mrcParams\u001b[49m\u001b[43m[\u001b[49m\u001b[38;5;124;43m'\u001b[39;49m\u001b[38;5;124;43manimation.writer\u001b[39;49m\u001b[38;5;124;43m'\u001b[39;49m\u001b[43m]\u001b[49m\u001b[43m]\u001b[49m\n\u001b[1;32m   1267\u001b[0m writer \u001b[38;5;241m=\u001b[39m Writer(codec\u001b[38;5;241m=\u001b[39m\u001b[38;5;124m'\u001b[39m\u001b[38;5;124mh264\u001b[39m\u001b[38;5;124m'\u001b[39m,\n\u001b[1;32m   1268\u001b[0m                 bitrate\u001b[38;5;241m=\u001b[39mmpl\u001b[38;5;241m.\u001b[39mrcParams[\u001b[38;5;124m'\u001b[39m\u001b[38;5;124manimation.bitrate\u001b[39m\u001b[38;5;124m'\u001b[39m],\n\u001b[1;32m   1269\u001b[0m                 fps\u001b[38;5;241m=\u001b[39m\u001b[38;5;241m1000.\u001b[39m \u001b[38;5;241m/\u001b[39m \u001b[38;5;28mself\u001b[39m\u001b[38;5;241m.\u001b[39m_interval)\n\u001b[1;32m   1270\u001b[0m \u001b[38;5;28mself\u001b[39m\u001b[38;5;241m.\u001b[39msave(\u001b[38;5;28mstr\u001b[39m(path), writer\u001b[38;5;241m=\u001b[39mwriter)\n",
      "File \u001b[0;32m~/opt/anaconda3/lib/python3.9/site-packages/matplotlib/animation.py:151\u001b[0m, in \u001b[0;36mMovieWriterRegistry.__getitem__\u001b[0;34m(self, name)\u001b[0m\n\u001b[1;32m    149\u001b[0m \u001b[38;5;28;01mif\u001b[39;00m \u001b[38;5;28mself\u001b[39m\u001b[38;5;241m.\u001b[39mis_available(name):\n\u001b[1;32m    150\u001b[0m     \u001b[38;5;28;01mreturn\u001b[39;00m \u001b[38;5;28mself\u001b[39m\u001b[38;5;241m.\u001b[39m_registered[name]\n\u001b[0;32m--> 151\u001b[0m \u001b[38;5;28;01mraise\u001b[39;00m \u001b[38;5;167;01mRuntimeError\u001b[39;00m(\u001b[38;5;124mf\u001b[39m\u001b[38;5;124m\"\u001b[39m\u001b[38;5;124mRequested MovieWriter (\u001b[39m\u001b[38;5;132;01m{\u001b[39;00mname\u001b[38;5;132;01m}\u001b[39;00m\u001b[38;5;124m) not available\u001b[39m\u001b[38;5;124m\"\u001b[39m)\n",
      "\u001b[0;31mRuntimeError\u001b[0m: Requested MovieWriter (ffmpeg) not available"
     ]
    },
    {
     "data": {
      "image/png": "[encoded data removed]",
      "text/plain": [
       "<Figure size 432x288 with 1 Axes>"
      ]
     },
     "metadata": {
      "needs_background": "light"
     },
     "output_type": "display_data"
    }
   ],
   "source": [
    "#display the result as an animation, to enjoy higher amounts of fun\n",
    "t = sol.y[0] \n",
    "x = sol.y[1] \n",
    "\n",
    "# set up the figure\n",
    "fig, ax = plt.subplots()\n",
    "ax.axis([min(t),max(max(t),max(sol.y[4])),min(x)-1,max(x)])\n",
    "\n",
    "#create the objects to be plotted, initially nothing\n",
    "l, = ax.plot([],[])\n",
    "dots, = ax.plot([],[], 'g.')\n",
    "target, = ax.plot([],[], 'ro',markersize=20)\n",
    "\n",
    "#set up the animation; i.e., change the plotted data on each indexed frame\n",
    "def animate(i):\n",
    "    l.set_data(t[:i], x[:i])\n",
    "    dots.set_data(t[:i], x[:i])\n",
    "    #pig.set_data(sol.y[4][:i], y_target[:i]+0.3) #show all frames of the target\n",
    "    target.set_data(sol.y[4][i], y_target[i]+0.3) #show just the most recent\n",
    "\n",
    "ani = matplotlib.animation.FuncAnimation(fig, animate, frames=len(t))\n",
    "\n",
    "from IPython.display import HTML\n",
    "#HTML(ani.to_jshtml()) # try to use javascript player\n",
    "HTML(ani.to_html5_video())  # try to use html5 video player\n"
   ]
  },
  {
   "cell_type": "code",
   "execution_count": null,
   "id": "85831446",
   "metadata": {},
   "outputs": [],
   "source": []
  },
  {
   "cell_type": "code",
   "execution_count": null,
   "id": "f7f3ab5b",
   "metadata": {},
   "outputs": [],
   "source": []
  }
 ],
 "metadata": {
  "kernelspec": {
   "display_name": "Python 3 (ipykernel)",
   "language": "python",
   "name": "python3"
  },
  "language_info": {
   "codemirror_mode": {
    "name": "ipython",
    "version": 3
   },
   "file_extension": ".py",
   "mimetype": "text/x-python",
   "name": "python",
   "nbconvert_exporter": "python",
   "pygments_lexer": "ipython3",
   "version": "3.9.12"
  }
 },
 "nbformat": 4,
 "nbformat_minor": 5
}
